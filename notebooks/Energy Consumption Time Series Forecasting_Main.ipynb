{
 "cells": [
  {
   "cell_type": "markdown",
   "id": "8ca16e09",
   "metadata": {},
   "source": [
    "# Energy Consumption Time Series Forecasting\n",
    "#### 📝 Problem Statement\n",
    "We want to predict how much electricity a household will use in the near future. This helps save energy and plan better.\n",
    "\n",
    "#### 🎯 Objective\n",
    "Use past energy usage data to forecast future consumption. We will:\n",
    "- Clean and prepare the data\n",
    "- Create time-related features (like hour and day)\n",
    "- Use ARIMA, Prophet, and XGBoost models\n",
    "- Compare their accuracy\n",
    "- Show actual vs. predicted usage in graphs"
   ]
  },
  {
   "cell_type": "markdown",
   "id": "45988366-5735-4169-9860-5040ed1cb9ab",
   "metadata": {},
   "source": [
    "#### Step 1: Import Required Libraries"
   ]
  },
  {
   "cell_type": "code",
   "execution_count": null,
   "id": "7dbe4ea8",
   "metadata": {},
   "outputs": [],
   "source": [
    "import pandas as pd\n",
    "import numpy as np\n",
    "import matplotlib.pyplot as plt\n",
    "import seaborn as sns\n",
    "\n",
    "from sklearn.metrics import mean_absolute_error, mean_squared_error\n",
    "from sklearn.model_selection import train_test_split\n",
    "\n",
    "from statsmodels.tsa.arima.model import ARIMA\n",
    "from prophet import Prophet\n",
    "from xgboost import XGBRegressor\n",
    "\n",
    "# Optional: If you plan to use interactive plots\n",
    "try:\n",
    "    import plotly.express as px\n",
    "except ImportError:\n",
    "    print(\"Plotly not installed. Skipping interactive plots.\")\n",
    "\n",
    "# Ignore warnings\n",
    "import warnings\n",
    "warnings.filterwarnings(\"ignore\")\n"
   ]
  },
  {
   "cell_type": "markdown",
   "id": "59fd4c02-2645-453e-86d0-4619f29d30b4",
   "metadata": {},
   "source": [
    "#### Step 2: Load Dataset \n",
    "##### Data Parsing & Resampling"
   ]
  },
  {
   "cell_type": "code",
   "execution_count": null,
   "id": "541faa25",
   "metadata": {},
   "outputs": [],
   "source": [
    "df = pd.read_csv('../data/household_power_consumption.txt', sep=';', low_memory=False, na_values='?', \n",
    "                 parse_dates={'datetime': ['Date', 'Time']}, infer_datetime_format=True)\n",
    "\n",
    "df.set_index('datetime', inplace=True)\n",
    "\n",
    "# Keep only the main target column\n",
    "df = df[['Global_active_power']].astype('float32')\n",
    "\n",
    "# Resample to hourly usage\n",
    "df_hourly = df.resample('H').mean()\n",
    "\n",
    "print(df.head())      \n",
    "print(df.shape)       \n"
   ]
  },
  {
   "cell_type": "markdown",
   "id": "0c6ca198-d625-4446-a3e8-57f6f46f093a",
   "metadata": {},
   "source": [
    "- Combined the Date and Time columns to create a proper datetime index.\n",
    "- Focused only on the Global_active_power column (our target for forecasting).\n",
    "- Removed other columns and converted data type to save memory.\n",
    "- Changed the data from minute-level to hourly averages to make it easier to work with.\n",
    "- This makes patterns clearer and better for forecasting short-term energy use"
   ]
  },
  {
   "cell_type": "markdown",
   "id": "30084b4f-2d10-4f12-b886-b30498214ec8",
   "metadata": {},
   "source": [
    "#### Step 3: Data Cleaning"
   ]
  },
  {
   "cell_type": "code",
   "execution_count": null,
   "id": "6e502df9",
   "metadata": {},
   "outputs": [],
   "source": [
    "print(df_hourly.isnull().sum())\n",
    "df_hourly.dropna(inplace=True)\n",
    "\n",
    "print(df_hourly.isnull().sum())"
   ]
  },
  {
   "cell_type": "code",
   "execution_count": null,
   "id": "7f6483b9-6cce-4759-a0b6-3387289e8a4d",
   "metadata": {},
   "outputs": [],
   "source": [
    "print(df_hourly.describe())"
   ]
  },
  {
   "cell_type": "markdown",
   "id": "96f653ff-a929-4102-9133-870b874bdd70",
   "metadata": {},
   "source": [
    "- We have 34,168 hourly readings in total.\n",
    "- On average, the household uses about 1.09 kW of power per hour.\n",
    "- Most of the time, power usage stays below 1.6 kW.\n",
    "- The highest usage recorded is around 6.5 kW (very high).\n",
    "- The lowest usage is around 0.12 kW (very low)."
   ]
  },
  {
   "cell_type": "markdown",
   "id": "33cacca9-e7bc-4c8d-ad69-653f7ade0e20",
   "metadata": {},
   "source": [
    "#### Step 4: Data Exploration"
   ]
  },
  {
   "cell_type": "code",
   "execution_count": null,
   "id": "f1addbb5",
   "metadata": {},
   "outputs": [],
   "source": [
    "\n",
    "df_hourly['Global_active_power'].plot(figsize=(14, 4), title=\"Hourly Global Active Power Usage\")\n",
    "plt.ylabel(\"kW\")\n",
    "plt.show()\n"
   ]
  },
  {
   "cell_type": "markdown",
   "id": "3c242c87-aa97-4c7e-90ec-89d0d34f6591",
   "metadata": {},
   "source": [
    "**Insights:**\n",
    "The graph shows:\n",
    "- How power use changes over time (2007–2010).\n",
    "- We can see regular up-and-down patterns — maybe due to seasons or habits.\n",
    "- There are spikes where usage goes really high — likely during heavy appliance use.\n",
    "- Some gaps or dips (near 0) might be due to missing data or times when no power was used."
   ]
  },
  {
   "cell_type": "code",
   "execution_count": null,
   "id": "a55df334-c360-4ca7-ac35-59d39ccee1aa",
   "metadata": {},
   "outputs": [],
   "source": [
    "df_hourly['Global_active_power'].hist(bins=50)\n",
    "plt.title(\"Distribution of Global Active Power\")\n",
    "plt.xlabel(\"kW\")\n",
    "plt.ylabel(\"Frequency\")\n",
    "plt.show()"
   ]
  },
  {
   "cell_type": "markdown",
   "id": "ac2c38d3-9eb5-4b7b-82b2-5c52fd1baeb1",
   "metadata": {},
   "source": [
    "**Insights:**\n",
    "- Most energy usage values are low (below 1.5 kW).\n",
    "- A sharp peak is seen around 0.4 kW, showing it's the most common usage.\n",
    "- A few high values (above 4 kW) occur rarely – these are spikes.\n",
    "- A small second bump around 1.3 kW may show higher usage during busy hours.\n",
    "- The data is not normally distributed, so it may need transformation before modeling.\n",
    "- Models like ARIMA, Prophet, or XGBoost must handle the skewed shape and outliers well."
   ]
  },
  {
   "cell_type": "markdown",
   "id": "97de541f-5cf7-4a67-a591-94646f4b1c2a",
   "metadata": {},
   "source": [
    "#### Step 5: Time-based Feature Engineering"
   ]
  },
  {
   "cell_type": "code",
   "execution_count": null,
   "id": "16422757",
   "metadata": {},
   "outputs": [],
   "source": [
    "\n",
    "df_hourly['hour'] = df_hourly.index.hour\n",
    "df_hourly['dayofweek'] = df_hourly.index.dayofweek\n",
    "df_hourly['is_weekend'] = df_hourly['dayofweek'].isin([5, 6]).astype(int)"
   ]
  },
  {
   "cell_type": "markdown",
   "id": "178fa4ee-7750-4196-9eaa-43169899fd98",
   "metadata": {},
   "source": [
    "- Extracts new features from datetime index:\n",
    "\n",
    "   - hour of the day\n",
    "   - dayofweek (0 = Monday, 6 = Sunday)\n",
    "   - is_weekend (1 if Saturday/Sunday, else 0)\n",
    "\n",
    "- Helps models like XGBoost detect patterns in human behavior.\n",
    "\n",
    "- Captures effects like higher usage in the evenings or reduced usage on weekends."
   ]
  },
  {
   "cell_type": "markdown",
   "id": "37636edc-70f9-45e6-82b0-89e301f78f7f",
   "metadata": {},
   "source": [
    "#### Step 6: Train-Test Split"
   ]
  },
  {
   "cell_type": "code",
   "execution_count": null,
   "id": "9cafe223",
   "metadata": {},
   "outputs": [],
   "source": [
    "\n",
    "split = int(len(df_hourly) * 0.8)\n",
    "train, test = df_hourly.iloc[:split], df_hourly.iloc[split:]\n",
    "train_y, test_y = train['Global_active_power'], test['Global_active_power']"
   ]
  },
  {
   "cell_type": "markdown",
   "id": "29f415ba-5886-4db5-8654-4189e89dc7fd",
   "metadata": {},
   "source": [
    "Splits the data:\n",
    "\n",
    "- 80% training: used to train models.\n",
    "- 20% testing: held out to evaluate future predictions.\n",
    "\n",
    "Ensures unbiased model evaluation on unseen data."
   ]
  },
  {
   "cell_type": "markdown",
   "id": "5cf8cd2b-625a-439c-bee6-0ca834495281",
   "metadata": {},
   "source": [
    "### Step 7: Model Training"
   ]
  },
  {
   "cell_type": "markdown",
   "id": "9ca6d822-99c8-4bea-9526-b0df91eb4510",
   "metadata": {},
   "source": [
    "####  Step 7a: Model 1 – ARIMA"
   ]
  },
  {
   "cell_type": "code",
   "execution_count": null,
   "id": "088aee87",
   "metadata": {},
   "outputs": [],
   "source": [
    "\n",
    "model_arima = ARIMA(train_y, order=(5,1,0))\n",
    "arima_result = model_arima.fit()\n",
    "forecast_arima = arima_result.forecast(steps=len(test_y))\n",
    "mae_arima = mean_absolute_error(test_y, forecast_arima)\n",
    "rmse_arima = np.sqrt(mean_squared_error(test_y, forecast_arima))"
   ]
  },
  {
   "cell_type": "markdown",
   "id": "52a27c59-c761-4dfc-84ef-31f529662b05",
   "metadata": {},
   "source": [
    "We started by using **ARIMA**, which is a traditional model for time series forecasting.\n",
    "\n",
    "- It’s good at picking up trends and patterns that repeat over time.\n",
    "\n",
    "- After training it on our historical energy data, we asked it to predict energy usage for future hours (our test set).\n",
    "\n",
    "- To check how well it did, we used two metrics:\n",
    "\n",
    "   - MAE (how far off, on average, the predictions were)\n",
    "\n",
    "   - RMSE (similar, but it gives bigger penalties for larger mistakes)"
   ]
  },
  {
   "cell_type": "markdown",
   "id": "0ac2aaa0-39b8-4a1c-bd00-ae3d55c474a8",
   "metadata": {},
   "source": [
    "#### Step 7b: Model 2 – Prophet"
   ]
  },
  {
   "cell_type": "code",
   "execution_count": null,
   "id": "952ee24d",
   "metadata": {},
   "outputs": [],
   "source": [
    "\n",
    "df_prophet = train_y.reset_index().rename(columns={'datetime': 'ds', 'Global_active_power': 'y'})\n",
    "model_prophet = Prophet()\n",
    "model_prophet.fit(df_prophet)\n",
    "future = model_prophet.make_future_dataframe(periods=len(test_y), freq='H')\n",
    "forecast = model_prophet.predict(future)\n",
    "forecast_prophet = forecast.set_index('ds')['yhat'][-len(test_y):]\n",
    "mae_prophet = mean_absolute_error(test_y, forecast_prophet)\n",
    "rmse_prophet = np.sqrt(mean_squared_error(test_y, forecast_prophet))"
   ]
  },
  {
   "cell_type": "markdown",
   "id": "0918e765-038e-4d7b-9b48-7a2cf67d199a",
   "metadata": {},
   "source": [
    "Next up, we used Prophet — a forecasting tool made by Facebook (Meta).\n",
    "\n",
    "- It's great for time series that have regular trends, like daily or weekly patterns.\n",
    "\n",
    "- The nice thing is, it automatically figures out seasonality and trends, so we don’t have to do much fine-tuning.\n",
    "\n",
    "- Just like with ARIMA, we used it to forecast future values and then measured how accurate it was using MAE and RMSE.\n",
    "\n",
    "- You might have seen logs like ` “Chain [1] start processing” ` — that just means Prophet is running behind the scenes."
   ]
  },
  {
   "cell_type": "markdown",
   "id": "7ec0cbd3-b257-4622-8036-764a35113ec6",
   "metadata": {},
   "source": [
    "#### Step 7c: Model 3 – XGBoost"
   ]
  },
  {
   "cell_type": "code",
   "execution_count": null,
   "id": "c5e08f15",
   "metadata": {},
   "outputs": [],
   "source": [
    "\n",
    "features = ['hour', 'dayofweek', 'is_weekend']\n",
    "X = df_hourly[features]\n",
    "y = df_hourly['Global_active_power']\n",
    "X_train, X_test = X.iloc[:split], X.iloc[split:]\n",
    "y_train, y_test = y.iloc[:split], y.iloc[split:]\n",
    "xgb_model = XGBRegressor(n_estimators=100, learning_rate=0.1)\n",
    "xgb_model.fit(X_train, y_train)\n",
    "forecast_xgb = xgb_model.predict(X_test)\n",
    "mae_xgb = mean_absolute_error(y_test, forecast_xgb)\n",
    "rmse_xgb = np.sqrt(mean_squared_error(y_test, forecast_xgb))"
   ]
  },
  {
   "cell_type": "markdown",
   "id": "659b86fd-4638-42d4-852f-243502034be1",
   "metadata": {},
   "source": [
    "XGBoost, a machine learning model.\n",
    "\n",
    "- Instead of learning directly from the time series, it learns from the features we created, like:\n",
    "\n",
    "    - What hour of the day it is\n",
    "    - What day of the week\n",
    "    - Whether it’s a weekend\n",
    "\n",
    "- It’s especially good at handling complicated, non-linear patterns in data.\n",
    "\n",
    "- Although it doesn’t inherently understand time (like ARIMA or Prophet), it can still make very accurate predictions.\n",
    "\n",
    "- To check how well it did, we used two metrics:\n",
    "\n",
    "    - MAE (how far off, on average, the predictions were)\n",
    "    - RMSE (similar, but it gives bigger penalties for larger mistakes)"
   ]
  },
  {
   "cell_type": "markdown",
   "id": "b23b6997-8a4a-439b-8e2f-036c521b2e2d",
   "metadata": {},
   "source": [
    "#### Step 8: Model Comparison"
   ]
  },
  {
   "cell_type": "code",
   "execution_count": null,
   "id": "4891ca2c",
   "metadata": {},
   "outputs": [],
   "source": [
    "\n",
    "results = pd.DataFrame({\n",
    "    'Model': ['ARIMA', 'Prophet', 'XGBoost'],\n",
    "    'MAE': [mae_arima, mae_prophet, mae_xgb],\n",
    "    'RMSE': [rmse_arima, rmse_prophet, rmse_xgb]\n",
    "})\n",
    "print(results)"
   ]
  },
  {
   "cell_type": "markdown",
   "id": "b6e821c1-b24d-4d72-b8df-3d6949cd918f",
   "metadata": {},
   "source": [
    "**Insights:**\n",
    "- Compared three models: ARIMA, Prophet, and XGBoost.\n",
    "\n",
    "- Evaluation was done using MAE and RMSE.\n",
    "\n",
    "- XGBoost had the lowest error:\n",
    "\n",
    "    - MAE: 0.499\n",
    "    - RMSE: 0.667\n",
    "\n",
    "- ARIMA performed moderately well.\n",
    "\n",
    "- Prophet had slightly higher errors.\n",
    "\n",
    "✅ XGBoost was the most accurate model overall."
   ]
  },
  {
   "cell_type": "markdown",
   "id": "d910a340-107c-4b54-a8d0-5256460a77de",
   "metadata": {},
   "source": [
    "#### Step 9: Visualization – Actual vs Forecasted"
   ]
  },
  {
   "cell_type": "code",
   "execution_count": null,
   "id": "922f60c0",
   "metadata": {},
   "outputs": [],
   "source": [
    "\n",
    "plt.figure(figsize=(16, 6))\n",
    "plt.plot(test_y.index[:200], test_y[:200], label='Actual', color='black')\n",
    "plt.plot(test_y.index[:200], forecast_arima[:200], label='ARIMA', alpha=0.7)\n",
    "plt.plot(test_y.index[:200], forecast_prophet[:200], label='Prophet', alpha=0.7)\n",
    "plt.plot(test_y.index[:200], forecast_xgb[:200], label='XGBoost', alpha=0.7)\n",
    "plt.legend()\n",
    "plt.title('Actual vs Forecasted Energy Usage (First 200 Hours)')\n",
    "plt.xlabel('Time')\n",
    "plt.ylabel('Global Active Power (kW)')\n",
    "plt.show()"
   ]
  },
  {
   "cell_type": "markdown",
   "id": "bb4adacc-47ef-45e9-b73b-e99b3ad0780e",
   "metadata": {},
   "source": [
    "**Insights:**\n",
    "- **ARIMA :**\n",
    "    - Forecast is smoother and less reactive.\n",
    "    - Fails to follow sudden changes in energy use.\n",
    "    - Good for stable data, but weak for patterns with spikes.\n",
    "\n",
    "- **Prophet :**\n",
    "\n",
    "    - Captures overall trend and periodic patterns.\n",
    "    - Slight delay in response to real peaks/valleys.\n",
    "    - Performs better than ARIMA, but still misses fine details.\n",
    "\n",
    "- **XGBoost :**\n",
    "\n",
    "    - Closely follows the actual energy usage.\n",
    "    - Accurately captures sudden rises and drops.\n",
    "    - Best suited for this kind of fluctuating, high-variation data.\n",
    "\n",
    "**Overall Conclusion:**\n",
    "\n",
    "- XGBoost gives the most accurate forecast.\n",
    "- Prophet is decent for general trend detection.\n",
    "- ARIMA struggles with complex, spiky data."
   ]
  },
  {
   "cell_type": "markdown",
   "id": "521645c2-0753-4a36-b606-52e0180489f2",
   "metadata": {},
   "source": [
    "# Conclusion\n",
    "In this project, we predicted hourly energy use in a household using three models: ARIMA, Prophet, and XGBoost.\n",
    "We first cleaned the data, changed it to hourly format, and added time-related features like hour and day.\n",
    "After testing the models, **Prophet and XGBoost** gave better results because they understood patterns in time better than ARIMA but the **XGBoost** is the most accurate one.\n",
    "This kind of forecasting can help in managing energy use, saving costs, and planning electricity needs better.\n",
    "\n"
   ]
  },
  {
   "cell_type": "code",
   "execution_count": null,
   "id": "bbc1496c-893c-4d35-90e5-32ad4840308e",
   "metadata": {},
   "outputs": [],
   "source": []
  },
  {
   "cell_type": "code",
   "execution_count": null,
   "id": "a249ef27-e488-45c7-a962-3577cc6a1a40",
   "metadata": {},
   "outputs": [],
   "source": []
  }
 ],
 "metadata": {
  "kernelspec": {
   "display_name": "Python 3 (ipykernel)",
   "language": "python",
   "name": "python3"
  },
  "language_info": {
   "codemirror_mode": {
    "name": "ipython",
    "version": 3
   },
   "file_extension": ".py",
   "mimetype": "text/x-python",
   "name": "python",
   "nbconvert_exporter": "python",
   "pygments_lexer": "ipython3",
   "version": "3.8.10"
  }
 },
 "nbformat": 4,
 "nbformat_minor": 5
}
